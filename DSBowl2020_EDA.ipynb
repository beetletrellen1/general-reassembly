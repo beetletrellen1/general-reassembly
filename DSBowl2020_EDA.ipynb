{
 "cells": [
  {
   "cell_type": "markdown",
   "metadata": {},
   "source": [
    "# Data Science Bowl 2019/2020:\n",
    "### EDA/ Features"
   ]
  },
  {
   "cell_type": "markdown",
   "metadata": {},
   "source": [
    "### Problem Statement\n",
    "*The intent of the competition is to use the gameplay data to forecast how many attempts a child will take to pass a given assessment (an incorrect answer is counted as an attempt).*"
   ]
  },
  {
   "cell_type": "markdown",
   "metadata": {},
   "source": [
    "### Data\n",
    "Kaggle gives us five data files:\n",
    "- <b>train.csv and test.csv</b>: both have 11 features (including detailed nested event-level data if we want to use it) corresponding to event_ids within game session ids, which can be aggregated by installation id\n",
    "- <b>train_labels.csv</b>: includes accuracy group assignments for some of the train ids and a demonstration of how correct/incorrect answers map to accuracy group\n",
    "- <b>specs.csv</b>: details on what parts of gameplay are represented by the event_ids\n",
    "- <b>sample_submission.csv</b>: submission files must include two columns: the installation ID and predicted 'accuracy group.' \n",
    "\n",
    "<a href='https://www.kaggle.com/c/data-science-bowl-2019/data'> An overview of the features in each file can be found here.</a>"
   ]
  },
  {
   "cell_type": "markdown",
   "metadata": {},
   "source": [
    "#### CONTENTS:"
   ]
  },
  {
   "cell_type": "markdown",
   "metadata": {},
   "source": [
    "A. EDA\n",
    "1. <a href=#events>Events</a>\n",
    "2. <a href=#outcomes>Outcomes</a>\n",
    "3. <a href=#time>Time/Game Flow</a>\n",
    "\n",
    "B. <a href=#modelprep>Data for Modeling</a>\n",
    "\n",
    "C. <a href=#feateng>Feature Engineering</a>\n",
    "\n",
    "D. <a href=#transform>Transforming Train/Test</a>\n"
   ]
  },
  {
   "cell_type": "code",
   "execution_count": 1,
   "metadata": {},
   "outputs": [],
   "source": [
    "import pandas as pd\n",
    "import numpy as np\n",
    "from datetime import datetime as dt\n",
    "import matplotlib.pyplot as plt\n",
    "import seaborn as sns\n",
    "\n",
    "import warnings\n",
    "warnings.filterwarnings(\"ignore\")\n",
    "\n",
    "sns.set(style='darkgrid')\n",
    "plt.style.use('dark_background')\n",
    "pd.set_option('max_colwidth', 1000)\n",
    "pd.set_option('display.max_rows', 500)\n",
    "pd.set_option('display.max_columns', 500)"
   ]
  },
  {
   "cell_type": "code",
   "execution_count": 2,
   "metadata": {},
   "outputs": [
    {
     "name": "stdout",
     "output_type": "stream",
     "text": [
      "Shape of train: (11341042, 11)\n",
      "Shape of test: (1156414, 11)\n",
      "Shape of labels: (17690, 7)\n",
      "Shape of specs: (386, 3)\n"
     ]
    }
   ],
   "source": [
    "train = pd.read_csv('./data/train.csv')\n",
    "labels = pd.read_csv('./data/train_labels.csv')\n",
    "specs = pd.read_csv('./data/specs.csv')\n",
    "test = pd.read_csv('./data/test.csv')\n",
    "\n",
    "print(\"Shape of train: {}\".format(train.shape))\n",
    "print(\"Shape of test: {}\".format(test.shape))\n",
    "print(\"Shape of labels: {}\".format(labels.shape))\n",
    "print(\"Shape of specs: {}\".format(specs.shape))"
   ]
  },
  {
   "cell_type": "markdown",
   "metadata": {},
   "source": [
    "### 1. Events<a name='events' />"
   ]
  },
  {
   "cell_type": "markdown",
   "metadata": {},
   "source": [
    "In the Train dataset, each row represents one action in the app. While there are many unique event_ids, there are ~40 event codes that have basic gameplay elements in common across activities. Knowing what the event_codes represent would give us a better idea of what events matter most."
   ]
  },
  {
   "cell_type": "code",
   "execution_count": 3,
   "metadata": {},
   "outputs": [
    {
     "data": {
      "text/html": [
       "<div>\n",
       "<style scoped>\n",
       "    .dataframe tbody tr th:only-of-type {\n",
       "        vertical-align: middle;\n",
       "    }\n",
       "\n",
       "    .dataframe tbody tr th {\n",
       "        vertical-align: top;\n",
       "    }\n",
       "\n",
       "    .dataframe thead th {\n",
       "        text-align: right;\n",
       "    }\n",
       "</style>\n",
       "<table border=\"1\" class=\"dataframe\">\n",
       "  <thead>\n",
       "    <tr style=\"text-align: right;\">\n",
       "      <th></th>\n",
       "      <th>event_id</th>\n",
       "      <th>info</th>\n",
       "      <th>args</th>\n",
       "      <th>event_code</th>\n",
       "    </tr>\n",
       "  </thead>\n",
       "  <tbody>\n",
       "    <tr>\n",
       "      <th>136</th>\n",
       "      <td>b738d3d3</td>\n",
       "      <td>The exit game event is triggered when the game is quit. This is used to compute things like time spent in game. Depending on platform this may / may not be possible. NOTE: “quit” also means navigating away from game.</td>\n",
       "      <td>[{\"name\":\"game_time\",\"type\":\"int\",\"info\":\"millisecond count since start of gamemillisecond count since start of game\"},{\"name\":\"round\",\"type\":\"int\",\"info\":\"number of the current round when the event takes place or 0 if no round\"},{\"name\":\"session_duration\",\"type\":\"int\",\"info\":\"millisecond count since start of game\"},{\"name\":\"exit_type\",\"type\":\"string\",\"info\":\"\\\"closed container\\\", \\\"game ended\\\", or browser exit/navigation\"},{\"name\":\"event_count\",\"type\":\"int\",\"info\":\"session event counter\"},{\"name\":\"event_code\",\"type\":\"int\",\"info\":\"event class identifier\"}]</td>\n",
       "      <td>0</td>\n",
       "    </tr>\n",
       "  </tbody>\n",
       "</table>\n",
       "</div>"
      ],
      "text/plain": [
       "     event_id  \\\n",
       "136  b738d3d3   \n",
       "\n",
       "                                                                                                                                                                                                                         info  \\\n",
       "136  The exit game event is triggered when the game is quit. This is used to compute things like time spent in game. Depending on platform this may / may not be possible. NOTE: “quit” also means navigating away from game.   \n",
       "\n",
       "                                                                                                                                                                                                                                                                                                                                                                                                                                                                                                                                                                                    args  \\\n",
       "136  [{\"name\":\"game_time\",\"type\":\"int\",\"info\":\"millisecond count since start of gamemillisecond count since start of game\"},{\"name\":\"round\",\"type\":\"int\",\"info\":\"number of the current round when the event takes place or 0 if no round\"},{\"name\":\"session_duration\",\"type\":\"int\",\"info\":\"millisecond count since start of game\"},{\"name\":\"exit_type\",\"type\":\"string\",\"info\":\"\\\"closed container\\\", \\\"game ended\\\", or browser exit/navigation\"},{\"name\":\"event_count\",\"type\":\"int\",\"info\":\"session event counter\"},{\"name\":\"event_code\",\"type\":\"int\",\"info\":\"event class identifier\"}]   \n",
       "\n",
       "     event_code  \n",
       "136           0  "
      ]
     },
     "execution_count": 3,
     "metadata": {},
     "output_type": "execute_result"
    }
   ],
   "source": [
    "# making dictionary of event codes to event ids\n",
    "codes = train[['event_id', 'event_code']].drop_duplicates()\n",
    "codes_dict = dict(zip(list(codes['event_id']), list(codes['event_code'])))\n",
    "# specs table doesn't have event_ids, so mapping codes to specs table\n",
    "specs['event_code'] = specs['event_id'].map(codes_dict)\n",
    "specs['event_code'].fillna(0, inplace = True)\n",
    "specs['event_code'] = specs['event_code'].astype(int)\n",
    "\n",
    "specs.sort_values(by = 'event_code').head(1)"
   ]
  },
  {
   "cell_type": "markdown",
   "metadata": {},
   "source": [
    "^ I went through the sorted specs table to see what the event ids had in common, and generated these manual labels (there's a more DS way to do that but doing it manually didn't take that long)"
   ]
  },
  {
   "cell_type": "code",
   "execution_count": 4,
   "metadata": {},
   "outputs": [],
   "source": [
    "# event code labels - generated by looking at event ids. Some of these appear to be duplicated, \n",
    "# like 'Gameplay' - for those, I couldn't tell what made the codes unique/belong to one group\n",
    "\n",
    "specs_dict = {0: 'Exit Game',\n",
    "             2000: 'Start Game',\n",
    "             2010: 'Exit Game',\n",
    "             2020: 'Start Round',\n",
    "             2025: 'Gameplay - New Phase',\n",
    "             2030: 'Beat Round',\n",
    "             2035: 'Beat Round',\n",
    "             2040: 'Start New Level',\n",
    "             2050: 'Beat Level',\n",
    "             2060: 'Start Tutorial/Round',\n",
    "             2070: 'Finished Tutorial',\n",
    "             2075: 'Beat Round: End of Tutorial',\n",
    "             2080: 'Movie Started',\n",
    "             2081: 'Movie Skipped',\n",
    "             2083: 'Movie Ended',\n",
    "             3010: 'Extra Instructions',\n",
    "             3020: 'Start Feedback (Incorrect)',\n",
    "             3021: 'Start Feedback (Correct)',\n",
    "             3110: 'End Instructions',\n",
    "             3120: 'End Feedback (Incorrect)',\n",
    "             3121: 'End Feedback (Correct)',\n",
    "             4010: 'Click Start',\n",
    "             4020: 'Gameplay - Click',\n",
    "             4021: 'Gameplay - Fill',\n",
    "             4022: 'Gameplay - Place',\n",
    "             4025: 'Gameplay',\n",
    "             4030: 'Gameplay - Pick Up',\n",
    "             4031: 'Gameplay',\n",
    "             4035: 'Gameplay - Drag',\n",
    "             4040: 'Gameplay',\n",
    "             4045: 'Gameplay',\n",
    "             4050: 'Gameplay',\n",
    "             4070: 'Gameplay - Distraction',\n",
    "             4080: 'Gameplay - Hover',\n",
    "             4090: 'Request Help',\n",
    "             4095: 'Play Again',\n",
    "             4100: 'Submit Answer',\n",
    "             4110: 'Submit Answer',\n",
    "             4220: 'Victory Screen Click',\n",
    "             4235: 'Toy Drag',\n",
    "             5000: 'Gameplay',\n",
    "             5010: 'Gameplay'\n",
    "             }"
   ]
  },
  {
   "cell_type": "code",
   "execution_count": 5,
   "metadata": {},
   "outputs": [],
   "source": [
    "# mapping new labels to codes in train\n",
    "# train2 = train.copy()\n",
    "#train2['event_type'] = train2['event_code'].map(specs_dict)"
   ]
  },
  {
   "cell_type": "markdown",
   "metadata": {},
   "source": [
    "### 2. Outcomes<a name='labels' />"
   ]
  },
  {
   "cell_type": "markdown",
   "metadata": {},
   "source": [
    "*The outcomes in this competition are grouped into 4 groups (labeled accuracy_group in the data):*\n",
    "\n",
    "- 3: the assessment was solved on the first attempt\n",
    "- 2: the assessment was solved on the second attempt\n",
    "- 1: the assessment was solved after 3 or more attempts\n",
    "- 0: the assessment was never solved\n",
    "\n",
    "*The file train_labels.csv has been provided to show how these groups would be computed on the assessments in the training set. Assessment attempts are captured in event_code 4100 for all assessments except for Bird Measurer, which uses event_code 4110. If the attempt was correct, it contains \"correct\":true.*"
   ]
  },
  {
   "cell_type": "code",
   "execution_count": 6,
   "metadata": {},
   "outputs": [
    {
     "data": {
      "text/plain": [
       "17690"
      ]
     },
     "execution_count": 6,
     "metadata": {},
     "output_type": "execute_result"
    }
   ],
   "source": [
    "labels['game_session'].nunique() # all game sessions are unique, installation IDs are not"
   ]
  },
  {
   "cell_type": "code",
   "execution_count": 7,
   "metadata": {},
   "outputs": [
    {
     "data": {
      "text/html": [
       "<div>\n",
       "<style scoped>\n",
       "    .dataframe tbody tr th:only-of-type {\n",
       "        vertical-align: middle;\n",
       "    }\n",
       "\n",
       "    .dataframe tbody tr th {\n",
       "        vertical-align: top;\n",
       "    }\n",
       "\n",
       "    .dataframe thead th {\n",
       "        text-align: right;\n",
       "    }\n",
       "</style>\n",
       "<table border=\"1\" class=\"dataframe\">\n",
       "  <thead>\n",
       "    <tr style=\"text-align: right;\">\n",
       "      <th></th>\n",
       "      <th>game_session</th>\n",
       "      <th>installation_id</th>\n",
       "      <th>title</th>\n",
       "      <th>num_correct</th>\n",
       "      <th>num_incorrect</th>\n",
       "      <th>accuracy</th>\n",
       "      <th>accuracy_group</th>\n",
       "    </tr>\n",
       "  </thead>\n",
       "  <tbody>\n",
       "    <tr>\n",
       "      <th>0</th>\n",
       "      <td>6bdf9623adc94d89</td>\n",
       "      <td>0006a69f</td>\n",
       "      <td>Mushroom Sorter (Assessment)</td>\n",
       "      <td>1</td>\n",
       "      <td>0</td>\n",
       "      <td>1.0</td>\n",
       "      <td>3</td>\n",
       "    </tr>\n",
       "    <tr>\n",
       "      <th>1</th>\n",
       "      <td>77b8ee947eb84b4e</td>\n",
       "      <td>0006a69f</td>\n",
       "      <td>Bird Measurer (Assessment)</td>\n",
       "      <td>0</td>\n",
       "      <td>11</td>\n",
       "      <td>0.0</td>\n",
       "      <td>0</td>\n",
       "    </tr>\n",
       "    <tr>\n",
       "      <th>2</th>\n",
       "      <td>901acc108f55a5a1</td>\n",
       "      <td>0006a69f</td>\n",
       "      <td>Mushroom Sorter (Assessment)</td>\n",
       "      <td>1</td>\n",
       "      <td>0</td>\n",
       "      <td>1.0</td>\n",
       "      <td>3</td>\n",
       "    </tr>\n",
       "    <tr>\n",
       "      <th>3</th>\n",
       "      <td>9501794defd84e4d</td>\n",
       "      <td>0006a69f</td>\n",
       "      <td>Mushroom Sorter (Assessment)</td>\n",
       "      <td>1</td>\n",
       "      <td>1</td>\n",
       "      <td>0.5</td>\n",
       "      <td>2</td>\n",
       "    </tr>\n",
       "    <tr>\n",
       "      <th>4</th>\n",
       "      <td>a9ef3ecb3d1acc6a</td>\n",
       "      <td>0006a69f</td>\n",
       "      <td>Bird Measurer (Assessment)</td>\n",
       "      <td>1</td>\n",
       "      <td>0</td>\n",
       "      <td>1.0</td>\n",
       "      <td>3</td>\n",
       "    </tr>\n",
       "  </tbody>\n",
       "</table>\n",
       "</div>"
      ],
      "text/plain": [
       "       game_session installation_id                         title  \\\n",
       "0  6bdf9623adc94d89        0006a69f  Mushroom Sorter (Assessment)   \n",
       "1  77b8ee947eb84b4e        0006a69f    Bird Measurer (Assessment)   \n",
       "2  901acc108f55a5a1        0006a69f  Mushroom Sorter (Assessment)   \n",
       "3  9501794defd84e4d        0006a69f  Mushroom Sorter (Assessment)   \n",
       "4  a9ef3ecb3d1acc6a        0006a69f    Bird Measurer (Assessment)   \n",
       "\n",
       "   num_correct  num_incorrect  accuracy  accuracy_group  \n",
       "0            1              0       1.0               3  \n",
       "1            0             11       0.0               0  \n",
       "2            1              0       1.0               3  \n",
       "3            1              1       0.5               2  \n",
       "4            1              0       1.0               3  "
      ]
     },
     "execution_count": 7,
     "metadata": {},
     "output_type": "execute_result"
    }
   ],
   "source": [
    "labels.head()"
   ]
  },
  {
   "cell_type": "markdown",
   "metadata": {},
   "source": [
    "##### Which Assessments Are the Hardest?"
   ]
  },
  {
   "cell_type": "code",
   "execution_count": 8,
   "metadata": {},
   "outputs": [
    {
     "data": {
      "text/plain": [
       "3    0.500000\n",
       "0    0.239062\n",
       "1    0.136292\n",
       "2    0.124647\n",
       "Name: accuracy_group, dtype: float64"
      ]
     },
     "execution_count": 8,
     "metadata": {},
     "output_type": "execute_result"
    }
   ],
   "source": [
    "# fifty percent of assessments were completed on the first try\n",
    "labels['accuracy_group'].value_counts(normalize = True)"
   ]
  },
  {
   "cell_type": "code",
   "execution_count": 9,
   "metadata": {},
   "outputs": [
    {
     "data": {
      "image/png": "[encoded data removed]",
      "text/plain": [
       "<Figure size 432x288 with 1 Axes>"
      ]
     },
     "metadata": {},
     "output_type": "display_data"
    }
   ],
   "source": [
    "ax = sns.countplot(x=\"title\", hue = \"accuracy_group\", data=labels)\n",
    "ax.set_xticklabels(ax.get_xticklabels(), rotation=40, ha=\"right\")\n",
    "ax.set_title(\"Which Assessments Are the Hardest?\")\n",
    "plt.legend(bbox_to_anchor=(1.05, 1), loc=2, borderaxespad=0.);"
   ]
  },
  {
   "cell_type": "code",
   "execution_count": 10,
   "metadata": {},
   "outputs": [
    {
     "data": {
      "text/plain": [
       "title                         accuracy_group\n",
       "Bird Measurer (Assessment)    0                 0.322651\n",
       "                              1                 0.283321\n",
       "                              3                 0.252367\n",
       "                              2                 0.141661\n",
       "Cart Balancer (Assessment)    3                 0.662973\n",
       "                              0                 0.138762\n",
       "                              2                 0.113226\n",
       "                              1                 0.085040\n",
       "Cauldron Filler (Assessment)  3                 0.627620\n",
       "                              2                 0.155364\n",
       "                              1                 0.113194\n",
       "                              0                 0.103822\n",
       "Chest Sorter (Assessment)     0                 0.587722\n",
       "                              3                 0.170077\n",
       "                              1                 0.156323\n",
       "                              2                 0.085877\n",
       "Mushroom Sorter (Assessment)  3                 0.624967\n",
       "                              0                 0.158105\n",
       "                              2                 0.122438\n",
       "                              1                 0.094490\n",
       "Name: accuracy_group, dtype: float64"
      ]
     },
     "execution_count": 10,
     "metadata": {},
     "output_type": "execute_result"
    }
   ],
   "source": [
    "# performance by assessment\n",
    "labels.groupby('title')['accuracy_group'].value_counts(normalize = True)"
   ]
  },
  {
   "cell_type": "markdown",
   "metadata": {},
   "source": [
    "The most difficult assessment is Chest Sorter (17% solve on first try), followed by Bird Measurer (25% solve on first try), followed by Mushroom Sorter (62.5%), then Cauldron Filler (62.7%), and finally the easiest assessment: Cart Balancer (66% solved on first try). \n",
    "\n",
    "The 'hardest' assessments (ones least solved on first try) are also the ones most frequently abandoned before they are solved (58% never solve Chest Sorter; 32% never solve Bird Measurer, etc.)"
   ]
  },
  {
   "cell_type": "markdown",
   "metadata": {},
   "source": [
    "### 3. Time Features<a name='time' />"
   ]
  },
  {
   "cell_type": "markdown",
   "metadata": {},
   "source": [
    "We're given some temporal data in train and test: the time taken for each event_id/step in the game (in miliseconds), and the timestamp for the beginning of each step in the game. We could use this information to get an idea of how much time is spent on each activity per device."
   ]
  },
  {
   "cell_type": "code",
   "execution_count": 11,
   "metadata": {},
   "outputs": [],
   "source": [
    "def fix_time(df):\n",
    "    # convert timestamp to timestamp\n",
    "    df['timestamp'] = pd.to_datetime(df['timestamp'])\n",
    "    # converts milliseconds to seconds\n",
    "    df['game_time_s'] = df['game_time'] / 1000\n",
    "    # calculates the time for each game step, replaces negatives with 0\n",
    "    df['step_time'] = df['game_time_s'].diff().clip_lower(0)\n",
    "    return df"
   ]
  },
  {
   "cell_type": "markdown",
   "metadata": {},
   "source": [
    "##### Aggregating Game Sessions/Total Time"
   ]
  },
  {
   "cell_type": "code",
   "execution_count": 12,
   "metadata": {},
   "outputs": [],
   "source": [
    "# making copy of train\n",
    "train2 = fix_time(train)"
   ]
  },
  {
   "cell_type": "code",
   "execution_count": 13,
   "metadata": {},
   "outputs": [
    {
     "data": {
      "text/html": [
       "<div>\n",
       "<style scoped>\n",
       "    .dataframe tbody tr th:only-of-type {\n",
       "        vertical-align: middle;\n",
       "    }\n",
       "\n",
       "    .dataframe tbody tr th {\n",
       "        vertical-align: top;\n",
       "    }\n",
       "\n",
       "    .dataframe thead th {\n",
       "        text-align: right;\n",
       "    }\n",
       "</style>\n",
       "<table border=\"1\" class=\"dataframe\">\n",
       "  <thead>\n",
       "    <tr style=\"text-align: right;\">\n",
       "      <th></th>\n",
       "      <th>event_id</th>\n",
       "      <th>game_session</th>\n",
       "      <th>timestamp</th>\n",
       "      <th>event_data</th>\n",
       "      <th>installation_id</th>\n",
       "      <th>event_count</th>\n",
       "      <th>event_code</th>\n",
       "      <th>game_time</th>\n",
       "      <th>title</th>\n",
       "      <th>type</th>\n",
       "      <th>world</th>\n",
       "      <th>game_time_s</th>\n",
       "      <th>step_time</th>\n",
       "    </tr>\n",
       "  </thead>\n",
       "  <tbody>\n",
       "    <tr>\n",
       "      <th>0</th>\n",
       "      <td>27253bdc</td>\n",
       "      <td>45bb1e1b6b50c07b</td>\n",
       "      <td>2019-09-06 17:53:46.937</td>\n",
       "      <td>{\"event_code\": 2000, \"event_count\": 1}</td>\n",
       "      <td>0001e90f</td>\n",
       "      <td>1</td>\n",
       "      <td>2000</td>\n",
       "      <td>0</td>\n",
       "      <td>Welcome to Lost Lagoon!</td>\n",
       "      <td>Clip</td>\n",
       "      <td>NONE</td>\n",
       "      <td>0.000</td>\n",
       "      <td>NaN</td>\n",
       "    </tr>\n",
       "    <tr>\n",
       "      <th>1</th>\n",
       "      <td>27253bdc</td>\n",
       "      <td>17eeb7f223665f53</td>\n",
       "      <td>2019-09-06 17:54:17.519</td>\n",
       "      <td>{\"event_code\": 2000, \"event_count\": 1}</td>\n",
       "      <td>0001e90f</td>\n",
       "      <td>1</td>\n",
       "      <td>2000</td>\n",
       "      <td>0</td>\n",
       "      <td>Magma Peak - Level 1</td>\n",
       "      <td>Clip</td>\n",
       "      <td>MAGMAPEAK</td>\n",
       "      <td>0.000</td>\n",
       "      <td>0.000</td>\n",
       "    </tr>\n",
       "    <tr>\n",
       "      <th>2</th>\n",
       "      <td>77261ab5</td>\n",
       "      <td>0848ef14a8dc6892</td>\n",
       "      <td>2019-09-06 17:54:56.302</td>\n",
       "      <td>{\"version\":\"1.0\",\"event_count\":1,\"game_time\":0,\"event_code\":2000}</td>\n",
       "      <td>0001e90f</td>\n",
       "      <td>1</td>\n",
       "      <td>2000</td>\n",
       "      <td>0</td>\n",
       "      <td>Sandcastle Builder (Activity)</td>\n",
       "      <td>Activity</td>\n",
       "      <td>MAGMAPEAK</td>\n",
       "      <td>0.000</td>\n",
       "      <td>0.000</td>\n",
       "    </tr>\n",
       "    <tr>\n",
       "      <th>3</th>\n",
       "      <td>b2dba42b</td>\n",
       "      <td>0848ef14a8dc6892</td>\n",
       "      <td>2019-09-06 17:54:56.387</td>\n",
       "      <td>{\"description\":\"Let's build a sandcastle! First, fill up your mold with sand! You can use the shovel here. The mold gives the sand its shape!\",\"identifier\":\"Dot_LetsSandcastle,Dot_FillMold,Dot_MoldShape\",\"media_type\":\"audio\",\"total_duration\":6758,\"event_count\":2,\"game_time\":53,\"event_code\":3010}</td>\n",
       "      <td>0001e90f</td>\n",
       "      <td>2</td>\n",
       "      <td>3010</td>\n",
       "      <td>53</td>\n",
       "      <td>Sandcastle Builder (Activity)</td>\n",
       "      <td>Activity</td>\n",
       "      <td>MAGMAPEAK</td>\n",
       "      <td>0.053</td>\n",
       "      <td>0.053</td>\n",
       "    </tr>\n",
       "    <tr>\n",
       "      <th>4</th>\n",
       "      <td>1bb5fbdb</td>\n",
       "      <td>0848ef14a8dc6892</td>\n",
       "      <td>2019-09-06 17:55:03.253</td>\n",
       "      <td>{\"description\":\"Let's build a sandcastle! First, fill up your mold with sand! You can use the shovel here. The mold gives the sand its shape!\",\"identifier\":\"Dot_LetsSandcastle,Dot_FillMold,Dot_MoldShape\",\"media_type\":\"audio\",\"duration\":6919,\"event_count\":3,\"game_time\":6972,\"event_code\":3110}</td>\n",
       "      <td>0001e90f</td>\n",
       "      <td>3</td>\n",
       "      <td>3110</td>\n",
       "      <td>6972</td>\n",
       "      <td>Sandcastle Builder (Activity)</td>\n",
       "      <td>Activity</td>\n",
       "      <td>MAGMAPEAK</td>\n",
       "      <td>6.972</td>\n",
       "      <td>6.919</td>\n",
       "    </tr>\n",
       "  </tbody>\n",
       "</table>\n",
       "</div>"
      ],
      "text/plain": [
       "   event_id      game_session               timestamp  \\\n",
       "0  27253bdc  45bb1e1b6b50c07b 2019-09-06 17:53:46.937   \n",
       "1  27253bdc  17eeb7f223665f53 2019-09-06 17:54:17.519   \n",
       "2  77261ab5  0848ef14a8dc6892 2019-09-06 17:54:56.302   \n",
       "3  b2dba42b  0848ef14a8dc6892 2019-09-06 17:54:56.387   \n",
       "4  1bb5fbdb  0848ef14a8dc6892 2019-09-06 17:55:03.253   \n",
       "\n",
       "                                                                                                                                                                                                                                                                                                 event_data  \\\n",
       "0                                                                                                                                                                                                                                                                    {\"event_code\": 2000, \"event_count\": 1}   \n",
       "1                                                                                                                                                                                                                                                                    {\"event_code\": 2000, \"event_count\": 1}   \n",
       "2                                                                                                                                                                                                                                         {\"version\":\"1.0\",\"event_count\":1,\"game_time\":0,\"event_code\":2000}   \n",
       "3  {\"description\":\"Let's build a sandcastle! First, fill up your mold with sand! You can use the shovel here. The mold gives the sand its shape!\",\"identifier\":\"Dot_LetsSandcastle,Dot_FillMold,Dot_MoldShape\",\"media_type\":\"audio\",\"total_duration\":6758,\"event_count\":2,\"game_time\":53,\"event_code\":3010}   \n",
       "4      {\"description\":\"Let's build a sandcastle! First, fill up your mold with sand! You can use the shovel here. The mold gives the sand its shape!\",\"identifier\":\"Dot_LetsSandcastle,Dot_FillMold,Dot_MoldShape\",\"media_type\":\"audio\",\"duration\":6919,\"event_count\":3,\"game_time\":6972,\"event_code\":3110}   \n",
       "\n",
       "  installation_id  event_count  event_code  game_time  \\\n",
       "0        0001e90f            1        2000          0   \n",
       "1        0001e90f            1        2000          0   \n",
       "2        0001e90f            1        2000          0   \n",
       "3        0001e90f            2        3010         53   \n",
       "4        0001e90f            3        3110       6972   \n",
       "\n",
       "                           title      type      world  game_time_s  step_time  \n",
       "0        Welcome to Lost Lagoon!      Clip       NONE        0.000        NaN  \n",
       "1           Magma Peak - Level 1      Clip  MAGMAPEAK        0.000      0.000  \n",
       "2  Sandcastle Builder (Activity)  Activity  MAGMAPEAK        0.000      0.000  \n",
       "3  Sandcastle Builder (Activity)  Activity  MAGMAPEAK        0.053      0.053  \n",
       "4  Sandcastle Builder (Activity)  Activity  MAGMAPEAK        6.972      6.919  "
      ]
     },
     "execution_count": 13,
     "metadata": {},
     "output_type": "execute_result"
    }
   ],
   "source": [
    "train2.head()"
   ]
  },
  {
   "cell_type": "code",
   "execution_count": 14,
   "metadata": {},
   "outputs": [],
   "source": [
    "# generating total game sessions per device\n",
    "sessions_dict = train.groupby('installation_id').agg({'game_session': lambda x: x.nunique()}).to_dict()['game_session']\n",
    "train2['total_game_sessions'] = train2['installation_id'].map(sessions_dict)\n",
    "# total time\n",
    "time_dict = train.groupby('installation_id').agg({'step_time': np.sum}).to_dict()['step_time']\n",
    "train2['total_game_time'] = train2['installation_id'].map(time_dict)\n",
    "# convert milliseconds to seconds\n",
    "\n",
    "# generating new df to look at just aggregate data\n",
    "aggs = train2[['installation_id', 'total_game_sessions', 'total_game_time']]"
   ]
  },
  {
   "cell_type": "code",
   "execution_count": 15,
   "metadata": {},
   "outputs": [
    {
     "data": {
      "image/png": "[encoded data removed]",
      "text/plain": [
       "<Figure size 432x288 with 1 Axes>"
      ]
     },
     "metadata": {},
     "output_type": "display_data"
    }
   ],
   "source": [
    "# number of game sessions per installation id\n",
    "ax = sns.distplot(aggs['total_game_sessions'], bins=100);"
   ]
  },
  {
   "cell_type": "code",
   "execution_count": 16,
   "metadata": {},
   "outputs": [],
   "source": [
    "# converting aggs total game time to hours\n",
    "aggs['total_game_time_hrs'] = aggs['total_game_time'] / 3600"
   ]
  },
  {
   "cell_type": "code",
   "execution_count": 17,
   "metadata": {
    "scrolled": true
   },
   "outputs": [
    {
     "data": {
      "image/png": "[encoded data removed]",
      "text/plain": [
       "<Figure size 432x288 with 1 Axes>"
      ]
     },
     "metadata": {},
     "output_type": "display_data"
    }
   ],
   "source": [
    "ax = sns.distplot(aggs['total_game_time_hrs']);"
   ]
  },
  {
   "cell_type": "code",
   "execution_count": 18,
   "metadata": {},
   "outputs": [
    {
     "data": {
      "text/html": [
       "<div>\n",
       "<style scoped>\n",
       "    .dataframe tbody tr th:only-of-type {\n",
       "        vertical-align: middle;\n",
       "    }\n",
       "\n",
       "    .dataframe tbody tr th {\n",
       "        vertical-align: top;\n",
       "    }\n",
       "\n",
       "    .dataframe thead th {\n",
       "        text-align: right;\n",
       "    }\n",
       "</style>\n",
       "<table border=\"1\" class=\"dataframe\">\n",
       "  <thead>\n",
       "    <tr style=\"text-align: right;\">\n",
       "      <th></th>\n",
       "      <th>total_game_sessions</th>\n",
       "      <th>total_game_time</th>\n",
       "      <th>total_game_time_hrs</th>\n",
       "    </tr>\n",
       "  </thead>\n",
       "  <tbody>\n",
       "    <tr>\n",
       "      <th>count</th>\n",
       "      <td>1.134104e+07</td>\n",
       "      <td>1.134104e+07</td>\n",
       "      <td>1.134104e+07</td>\n",
       "    </tr>\n",
       "    <tr>\n",
       "      <th>mean</th>\n",
       "      <td>9.866712e+01</td>\n",
       "      <td>1.028074e+04</td>\n",
       "      <td>2.855762e+00</td>\n",
       "    </tr>\n",
       "    <tr>\n",
       "      <th>std</th>\n",
       "      <td>1.528496e+02</td>\n",
       "      <td>1.998563e+04</td>\n",
       "      <td>5.551564e+00</td>\n",
       "    </tr>\n",
       "    <tr>\n",
       "      <th>min</th>\n",
       "      <td>1.000000e+00</td>\n",
       "      <td>0.000000e+00</td>\n",
       "      <td>0.000000e+00</td>\n",
       "    </tr>\n",
       "    <tr>\n",
       "      <th>25%</th>\n",
       "      <td>2.100000e+01</td>\n",
       "      <td>1.356645e+03</td>\n",
       "      <td>3.768458e-01</td>\n",
       "    </tr>\n",
       "    <tr>\n",
       "      <th>50%</th>\n",
       "      <td>5.000000e+01</td>\n",
       "      <td>3.889574e+03</td>\n",
       "      <td>1.080437e+00</td>\n",
       "    </tr>\n",
       "    <tr>\n",
       "      <th>75%</th>\n",
       "      <td>1.120000e+02</td>\n",
       "      <td>1.056166e+04</td>\n",
       "      <td>2.933794e+00</td>\n",
       "    </tr>\n",
       "    <tr>\n",
       "      <th>max</th>\n",
       "      <td>1.260000e+03</td>\n",
       "      <td>3.129583e+05</td>\n",
       "      <td>8.693285e+01</td>\n",
       "    </tr>\n",
       "  </tbody>\n",
       "</table>\n",
       "</div>"
      ],
      "text/plain": [
       "       total_game_sessions  total_game_time  total_game_time_hrs\n",
       "count         1.134104e+07     1.134104e+07         1.134104e+07\n",
       "mean          9.866712e+01     1.028074e+04         2.855762e+00\n",
       "std           1.528496e+02     1.998563e+04         5.551564e+00\n",
       "min           1.000000e+00     0.000000e+00         0.000000e+00\n",
       "25%           2.100000e+01     1.356645e+03         3.768458e-01\n",
       "50%           5.000000e+01     3.889574e+03         1.080437e+00\n",
       "75%           1.120000e+02     1.056166e+04         2.933794e+00\n",
       "max           1.260000e+03     3.129583e+05         8.693285e+01"
      ]
     },
     "execution_count": 18,
     "metadata": {},
     "output_type": "execute_result"
    }
   ],
   "source": [
    "aggs.describe()"
   ]
  },
  {
   "cell_type": "markdown",
   "metadata": {},
   "source": [
    "## B. Data for Models<a name='modelprep' />\n",
    "The data isn't structured for an easy, immediate join between the training data and target variable..."
   ]
  },
  {
   "cell_type": "markdown",
   "metadata": {},
   "source": [
    "#### Filter Installation IDs that are in Train_labels\n",
    "Not all training set installation_ids are in the labels set; if we want to be able to evaluate results from gameplay, we should filter training data to the ones that have an assessment."
   ]
  },
  {
   "cell_type": "code",
   "execution_count": 19,
   "metadata": {},
   "outputs": [
    {
     "name": "stdout",
     "output_type": "stream",
     "text": [
      "(7734558, 15)\n"
     ]
    }
   ],
   "source": [
    "# function to filter to assessed only\n",
    "def filter_assessed(train_df, labels_df):\n",
    "    install_ids = list(labels_df['installation_id'].unique())\n",
    "    new_df = train_df[train_df['installation_id'].isin(install_ids)]\n",
    "    return new_df\n",
    "\n",
    "assessed = filter_assessed(train, labels)\n",
    "print(assessed.shape)"
   ]
  },
  {
   "cell_type": "markdown",
   "metadata": {},
   "source": [
    "#### Comparing Train to Train_Labels\n",
    "Train_labels has more than one accuracy_group score for each installation_id. So for training purposes, if we want to use all the train_labels we need to join results on game session ids. Because we know when each game session occurred, we can aggregate all the installation_id information that happened prior to and during that game session, and make that the data we use to predict the outcome for that game_session id. "
   ]
  },
  {
   "cell_type": "code",
   "execution_count": 20,
   "metadata": {},
   "outputs": [
    {
     "name": "stdout",
     "output_type": "stream",
     "text": [
      "(17690, 7)\n",
      "(17690, 7)\n"
     ]
    }
   ],
   "source": [
    "def sort_by_time(df):\n",
    "    new_df = df.sort_values(by = ['installation_id', 'timestamp'], ascending = True)\n",
    "    return new_df\n",
    "\n",
    "# ordering assessed by timestamp and installation id - this will also sort by game session\n",
    "assessed = sort_by_time(assessed)\n",
    "\n",
    "# check to make sure game sessions in labels all exist in training data\n",
    "print(labels[labels['game_session'].isin(assessed['game_session'])].shape)\n",
    "print(labels.shape)"
   ]
  },
  {
   "cell_type": "markdown",
   "metadata": {},
   "source": [
    "#### Comparing Test to Train\n",
    "*In the training set, you are provided the full history of gameplay data. In the test set, we have truncated the history after the start event of a single assessment, chosen randomly, for which you must predict the number of attempts. Note that the training set contains many installation_ids which never took assessments, whereas every installation_id in the test set made an attempt on at least one assessment.*\n",
    "\n",
    "The test set seems to be similar to the training dataset, except we won't need to filter out any that don't have a label/accuracy group. However, because the sample calls for us to submit accuracy groups for each installation id (not each game session like we have in the training labels), I think that means we will be pretending to allocate scores for new assessments (not in test) for each device, not knowing what assessments they are, and predict performance based solely on past performance. "
   ]
  },
  {
   "cell_type": "code",
   "execution_count": 21,
   "metadata": {},
   "outputs": [
    {
     "name": "stdout",
     "output_type": "stream",
     "text": [
      "(1156414, 11)\n",
      "28445\n",
      "1000\n"
     ]
    }
   ],
   "source": [
    "print(test.shape)\n",
    "print(test['game_session'].nunique())\n",
    "print(test['installation_id'].nunique())"
   ]
  },
  {
   "cell_type": "markdown",
   "metadata": {},
   "source": [
    "## C. Feature Engineering<a name='feateng' />\n",
    "\n",
    "Based on the information we will have for the test data (past app experience) and the data we won't (what assessment we are generating an accuracy score for), we might want to focus on building features that aggregate past experience (leading up to the current game session):\n",
    "\n",
    "1. How much time has been spent on the app (in general, on each activity, on assessments, etc.)\n",
    "2. How many times they've taken assessments/played games\n",
    "3. How well they did on past assessments/games\n",
    "\n",
    "We could guess that players are more likely to pass assessments quickly if they a) have tried those assessments before, b) have practiced activities that use the skills tested in the assessments (which we can only know if they've been to all worlds/done a variety of activities) c) have generally spent more time in the application and understand how the rules/ interface/ gameplay works. Players that are new to the app are probably more likely to need more tries to pass assessments."
   ]
  },
  {
   "cell_type": "markdown",
   "metadata": {},
   "source": [
    "##### Correct / Incorrect Gameplay / Answers\n",
    "Answer submissions for assessments are event code 4100 or 4110 and outcomes are marked in event_data either \"correct\": true or \"correct\": false. We can look at codes 3021 and 3020 which give feedback based on right or wrong attempts in games."
   ]
  },
  {
   "cell_type": "code",
   "execution_count": null,
   "metadata": {},
   "outputs": [],
   "source": [
    "def correct_incorrect(df):\n",
    "    # gameplay\n",
    "    df['game_correct'] = [1 if i == 3021 else 0 for i in df['event_code']]\n",
    "    df['game_incorrect'] = [1 if i == 3020 else 0 for i in df['event_code']]\n",
    "    \n",
    "    # assessments\n",
    "    answers = df[(df['event_code'] == 4100) | (df['event_code']==4110)]\n",
    "    correct = [1 if '\"correct\":true' in i else 0 for i in df['event_data']]\n",
    "    incorrect = [1 if '\"correct\":false' in i else 0 for i in df['event_data']]\n",
    "    \n",
    "    correct_dict = dict(zip(list(answers.index), correct))\n",
    "    incorrect_dict = dict(zip(list(answers.index), incorrect))\n",
    "\n",
    "    df['test_correct'] = df.index.map(correct_dict)\n",
    "    df['test_incorrect'] = df.index.map(incorrect_dict)\n",
    "    \n",
    "    # cumulative correct/incorrect assessment answers\n",
    "    df['test_correct_cuma'] = df.groupby('installation_id')['test_correct'].cumsum(skipna=True)\n",
    "    df['test_incorrect_cuma'] = df.groupby('installation_id')['test_incorrect'].cumsum(skipna=True)\n",
    "    df['proportion_correct_cuma'] = df['test_correct_cuma']/(df['test_correct_cuma']\n",
    "                                                                     + df['test_incorrect_cuma'])\n",
    "    \n",
    "    # cumulative correct/incorrect gameplay\n",
    "    df['game_correct_cuma'] = df.groupby('installation_id')['game_correct'].cumsum(skipna=True)\n",
    "    df['game_incorrect_cuma'] = df.groupby('installation_id')['game_incorrect'].cumsum(skipna=True)\n",
    "    df['proportion_correct_game_cuma'] = df['game_correct_cuma']/(df['game_correct_cuma']\n",
    "                                                                     + df['game_incorrect_cuma'])\n",
    "    return df"
   ]
  },
  {
   "cell_type": "markdown",
   "metadata": {},
   "source": [
    "#### Prior App Time / Number of Game Sessions"
   ]
  },
  {
   "cell_type": "code",
   "execution_count": null,
   "metadata": {},
   "outputs": [],
   "source": [
    "def app_time(df):\n",
    "    # prior app time\n",
    "    df['app_time_cuma'] = df.groupby('installation_id')['step_time'].cumsum(skipna = True)\n",
    "    \n",
    "    # prior game sessions\n",
    "    game_sessions = list(df['game_session'].unique())\n",
    "    sessions_dict = dict(zip(game_sessions, list(range(len(game_sessions)))))\n",
    "    \n",
    "    # finding where new game sessions begin\n",
    "    df['new_session_id'] = df['game_session'].map(sessions_dict)\n",
    "    df['new_game'] = df['new_session_id'].diff()\n",
    "    df.drop(columns=['new_session_id'], inplace =True)\n",
    "    df['game_sessions_cuma'] = df.groupby('installation_id')['new_game'].cumsum(skipna = True)\n",
    "    \n",
    "    return df"
   ]
  },
  {
   "cell_type": "markdown",
   "metadata": {},
   "source": [
    "#### Instructions\n",
    "We know the game designers added a feature to give extra instructions (not triggered by a user event). We can use this and the information on duration spent reviewing instructions to see if that makes a difference in gameplay. Start extra instructions = code 3010. End instructions = code 3110. "
   ]
  },
  {
   "cell_type": "code",
   "execution_count": null,
   "metadata": {},
   "outputs": [],
   "source": [
    "def instructions(df):\n",
    "    # number of times players got instructions, cumulatively\n",
    "    df['got_instructions'] = [1 if i == 3010 else 0 for i in df['event_code']]\n",
    "    df['got_instructions_cuma'] = df.groupby('installation_id')['got_instructions'].cumsum(skipna = True)\n",
    "    \n",
    "    # amount of time spend on instructions, cumulatively\n",
    "    got_instructions_df = df[df['got_instructions']==1]\n",
    "    got_instructions = df[df['got_instructions']==1].index\n",
    "    instruction_time = got_instructions_df['step_time']\n",
    "    time_dict = dict(zip(got_instructions, instruction_time))\n",
    "    df['instruction_time'] = df.index.map(time_dict)\n",
    "    df['instruction_time_cuma'] = df.groupby('installation_id')['instruction_time'].cumsum(skipna = True)\n",
    "    \n",
    "    return df"
   ]
  },
  {
   "cell_type": "markdown",
   "metadata": {},
   "source": [
    "#### Installation IDs that have done Assessments Before\n",
    "Some of the installation IDs in the train_labels dataset also have assessments in the train set; we can measure how many prior assessments they had and how much time they spent cumulatively."
   ]
  },
  {
   "cell_type": "code",
   "execution_count": null,
   "metadata": {},
   "outputs": [],
   "source": [
    "def prior_assessments(df):\n",
    "    # number of prior assessments\n",
    "    did_assess_df = df[df['type'] == 'Assessment']\n",
    "    did_assess = did_assess_df.index\n",
    "\n",
    "    number_assessments = did_assess_df.groupby('installation_id')['new_game'].cumsum(skipna = True)\n",
    "    assess_dict = dict(zip(did_assess, number_assessments))\n",
    "    df['prior_assessments_cuma'] = df.index.map(assess_dict)\n",
    "    \n",
    "    # amount of time spent on prior instructions, cumulatively\n",
    "    assessment_time = did_assess_df['step_time']\n",
    "    time_dict = dict(zip(did_assess, assessment_time))\n",
    "    df['assessment_time'] = df.index.map(time_dict)\n",
    "    df['assessment_time_cuma'] = df.groupby('installation_id')['assessment_time'].cumsum(skipna = True)\n",
    "    \n",
    "    return df"
   ]
  },
  {
   "cell_type": "code",
   "execution_count": null,
   "metadata": {},
   "outputs": [],
   "source": [
    "# fill in the NANs\n",
    "def fillna(df):\n",
    "    df = df.fillna(0)\n",
    "    return df"
   ]
  },
  {
   "cell_type": "markdown",
   "metadata": {},
   "source": [
    "#### Aggregating by Activity\n",
    "If we wanted, we could instead aggregate all the above by specific activities (games, assessments, etc.) or by the worlds they were in. "
   ]
  },
  {
   "cell_type": "code",
   "execution_count": null,
   "metadata": {},
   "outputs": [],
   "source": [
    "# aggregating number of game sessions and time spent per activity\n",
    "activities = list(assessed[(assessed['type'] =='Activity')]['title'].unique())\n",
    "assessments = list(assessed[(assessed['type'] == 'Assessment')]['title'].unique())\n",
    "games = list(assessed[(assessed['type'] == 'Game')]['title'].unique())\n",
    "worlds = list(assessed['world'].unique())"
   ]
  },
  {
   "cell_type": "code",
   "execution_count": null,
   "metadata": {},
   "outputs": [],
   "source": [
    "def aggregate_by_activity(df, subset, subset_type = ['title', 'world']):\n",
    "    subset_df = df[df[subset_type] == subset]\n",
    "    subset_index = subset_df.index\n",
    "    \n",
    "    new_num = subset_df.groupby('installation_id')['new_game'].cumsum(skipna = True)\n",
    "    new_time = subset_df.groupby('installation_id')['step_time'].cumsum(skipna = True)\n",
    "    new_correct_t = subset_df.groupby('installation_id')['test_correct'].cumsum(skipna = True)\n",
    "    new_incorrect_t = subset_df.groupby('installation_id')['test_incorrect'].cumsum(skipna = True)\n",
    "    new_correct_g = subset_df.groupby('installation_id')['game_correct'].cumsum(skipna = True)\n",
    "    new_incorrect_g = subset_df.groupby('installation_id')['game_incorrect'].cumsum(skipna = True)\n",
    "    \n",
    "    new_num_dict = dict(zip(subset_index, new_num))\n",
    "    new_time_dict = dict(zip(subset_index, new_time))\n",
    "    new_correct_t = dict(zip(subset_index, new_correct_t))\n",
    "    new_incorrect_t = dict(zip(subset_index, new_incorrect_t))\n",
    "    new_correct_g = dict(zip(subset_index, new_correct_g))\n",
    "    new_incorrect_g = dict(zip(subset_index, new_incorrect_g))\n",
    "    \n",
    "    new_time_col = subset + '_totaltime_perid'\n",
    "    new_num_col = subset + '_gamesessions_perid'\n",
    "    new_correct_t_col = subset + '_correctanswers_perid'\n",
    "    new_incorrect_t_col = subset + '_incorrectanswers_perid'\n",
    "    new_correct_g_col = subset + '_correctplay_perid'\n",
    "    new_incorrect_g_col = subset + '_incorrectplay_perid'\n",
    "    new_correct_pct_t_col = subset + '_correctanswers_rate_perid'\n",
    "    new_correct_pct_g_col = subset + '_correctplay_rate_perid'\n",
    "    \n",
    "    df[new_time_col] = df.index.map(new_time_dict)\n",
    "    df[new_num_col] = df.index.map(new_num_dict)\n",
    "    df[new_correct_t_col] = df.index.map(new_correct_t)\n",
    "    df[new_incorrect_t_col] = df.index.map(new_incorrect_t)\n",
    "    df[new_correct_g_col] = df.index.map(new_correct_g)\n",
    "    df[new_incorrect_g_col] = df.index.map(new_incorrect_g)\n",
    "    df[new_correct_pct_t_col] = df[new_correct_t_col] / (df[new_correct_t_col]+df[new_incorrect_t_col])\n",
    "    df[new_correct_pct_g_col] = df[new_correct_g_col] / (df[new_correct_g_col]+df[new_incorrect_g_col])\n",
    "    \n",
    "    return df\n",
    " \n",
    "def agg_func(df, iterlist, subset_type):\n",
    "    for i in iterlist:\n",
    "        aggregate_by_activity(df, i, subset_type)\n",
    "    return df"
   ]
  },
  {
   "cell_type": "markdown",
   "metadata": {},
   "source": [
    "### D. Transforming Train/Test<a name='transform' />"
   ]
  },
  {
   "cell_type": "markdown",
   "metadata": {},
   "source": [
    "##### New Train"
   ]
  },
  {
   "cell_type": "code",
   "execution_count": null,
   "metadata": {},
   "outputs": [],
   "source": [
    "## Apply functions to get new train dataset\n",
    "# fix time\n",
    "new_train = fix_time(train)\n",
    "# filter by ones in labels\n",
    "new_train = filter_assessed(new_train, labels)\n",
    "# order by time and installation id\n",
    "new_train = sort_by_time(new_train)\n",
    "# add correct/incorrect features\n",
    "new_train = correct_incorrect(new_train)\n",
    "# add time features\n",
    "new_train = app_time(new_train)\n",
    "# add instructions features\n",
    "new_train = instructions(new_train)\n",
    "# add assessments features\n",
    "new_train = prior_assessments(new_train)\n",
    "# add aggregate information based on each world\n",
    "new_train = agg_func(new_train, worlds, subset_type = 'world')\n",
    "# fillna\n",
    "new_train = fillna(new_train)"
   ]
  },
  {
   "cell_type": "code",
   "execution_count": null,
   "metadata": {},
   "outputs": [],
   "source": [
    "unnecessary_features = ['event_id',\n",
    "                       'timestamp',\n",
    "                       'event_data',\n",
    "                       'event_count',\n",
    "                       'event_code',\n",
    "                       'game_time',\n",
    "                       'title',\n",
    "                       'type',\n",
    "                       'world']\n",
    "\n",
    "game_sessions = list(labels['game_session'].unique())"
   ]
  },
  {
   "cell_type": "code",
   "execution_count": null,
   "metadata": {},
   "outputs": [],
   "source": [
    "new_train = new_train.drop(columns = unnecessary_features)\n",
    "new_train = new_train[new_train['new_game']==1]\n",
    "new_train = new_train[new_train['game_session'].isin(game_sessions)]"
   ]
  },
  {
   "cell_type": "code",
   "execution_count": null,
   "metadata": {},
   "outputs": [],
   "source": [
    "# checking we have the same # of rows for new_train and train_labels\n",
    "print(new_train.shape)\n",
    "print(labels.shape)"
   ]
  },
  {
   "cell_type": "code",
   "execution_count": null,
   "metadata": {},
   "outputs": [],
   "source": [
    "new_train.dtypes # should be all ints and floats except for game_session and install_id"
   ]
  },
  {
   "cell_type": "code",
   "execution_count": null,
   "metadata": {},
   "outputs": [],
   "source": [
    "new_train.to_csv('./data/new_train.csv')"
   ]
  },
  {
   "cell_type": "markdown",
   "metadata": {},
   "source": [
    "##### New Test"
   ]
  },
  {
   "cell_type": "code",
   "execution_count": null,
   "metadata": {},
   "outputs": [],
   "source": [
    "## Apply functions to get new train dataset\n",
    "# fix time\n",
    "new_test = fix_time(test)\n",
    "# no need to filter test\n",
    "\n",
    "# sort by time\n",
    "new_test = sort_by_time(new_test)\n",
    "# add correct/incorrect features\n",
    "new_test = correct_incorrect(new_test)\n",
    "# add time features\n",
    "new_test = app_time(new_test)\n",
    "# add instructions features\n",
    "new_test = instructions(new_test)\n",
    "# add assessments features\n",
    "new_test = prior_assessments(new_test)\n",
    "# add aggregate information based on each world\n",
    "new_test = agg_func(new_test, worlds, subset_type = 'world')\n",
    "# fillna\n",
    "new_test = fillna(new_test)"
   ]
  },
  {
   "cell_type": "code",
   "execution_count": null,
   "metadata": {},
   "outputs": [],
   "source": [
    "# drop same unnecessary features as train\n",
    "new_test = new_test.drop(columns = unnecessary_features)"
   ]
  },
  {
   "cell_type": "code",
   "execution_count": null,
   "metadata": {},
   "outputs": [],
   "source": [
    "# checking shape, should be same \n",
    "new_test.shape"
   ]
  },
  {
   "cell_type": "code",
   "execution_count": null,
   "metadata": {},
   "outputs": [],
   "source": [
    "# instead of getting new game_sessions, we want the last row for each installation id\n",
    "new_test = new_test.groupby('installation_id').last()"
   ]
  },
  {
   "cell_type": "code",
   "execution_count": null,
   "metadata": {},
   "outputs": [],
   "source": [
    "# we should have 1000 rows for new_test\n",
    "print(new_test.shape)"
   ]
  },
  {
   "cell_type": "code",
   "execution_count": null,
   "metadata": {},
   "outputs": [],
   "source": [
    "new_test.head()"
   ]
  },
  {
   "cell_type": "code",
   "execution_count": null,
   "metadata": {},
   "outputs": [],
   "source": [
    "new_test['installation_id'] = new_test.index"
   ]
  },
  {
   "cell_type": "code",
   "execution_count": null,
   "metadata": {},
   "outputs": [],
   "source": [
    "new_test.head()"
   ]
  },
  {
   "cell_type": "code",
   "execution_count": null,
   "metadata": {},
   "outputs": [],
   "source": [
    "new_test.to_csv('./data/new_test.csv')"
   ]
  },
  {
   "cell_type": "markdown",
   "metadata": {},
   "source": [
    "### More Features?"
   ]
  },
  {
   "cell_type": "markdown",
   "metadata": {},
   "source": [
    "We could also guess that players who are more invested in getting the assessments right would try more times and get more practice than those who get bored with the game and app easily. Is there a way to tell how 'focused' the players are? (Can we tell from the gameplay if they're actively trying to win the games or just clicking around the screen?)\n",
    "\n",
    "Not totally sure how to do this. Maybe looking at the proportion of 'distracted' gameplay steps to other gameplay steps/total number of steps used to complete a game? Or some kind of clustering (maybe in a graph?) to create new labels for the game sessions?\n"
   ]
  }
 ],
 "metadata": {
  "kernelspec": {
   "display_name": "Python 3",
   "language": "python",
   "name": "python3"
  },
  "language_info": {
   "codemirror_mode": {
    "name": "ipython",
    "version": 3
   },
   "file_extension": ".py",
   "mimetype": "text/x-python",
   "name": "python",
   "nbconvert_exporter": "python",
   "pygments_lexer": "ipython3",
   "version": "3.6.5"
  }
 },
 "nbformat": 4,
 "nbformat_minor": 2
}
