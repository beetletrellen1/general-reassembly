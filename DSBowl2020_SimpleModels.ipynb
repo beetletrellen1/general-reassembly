{
 "cells": [
  {
   "cell_type": "markdown",
   "metadata": {},
   "source": [
    "# Modeling"
   ]
  },
  {
   "cell_type": "code",
   "execution_count": 1,
   "metadata": {},
   "outputs": [
    {
     "name": "stderr",
     "output_type": "stream",
     "text": [
      "/anaconda3/lib/python3.6/site-packages/sklearn/ensemble/weight_boosting.py:29: DeprecationWarning: numpy.core.umath_tests is an internal NumPy module and should not be imported. It will be removed in a future NumPy release.\n",
      "  from numpy.core.umath_tests import inner1d\n"
     ]
    }
   ],
   "source": [
    "import pandas as pd\n",
    "import numpy as np\n",
    "\n",
    "from sklearn.linear_model import LogisticRegression\n",
    "from sklearn.ensemble import RandomForestClassifier\n",
    "\n",
    "from sklearn.model_selection import train_test_split, cross_val_score\n",
    "from sklearn.metrics import confusion_matrix\n",
    "from sklearn.preprocessing import StandardScaler\n",
    "from sklearn.utils import resample\n",
    "\n",
    "np.random.seed(42)"
   ]
  },
  {
   "cell_type": "code",
   "execution_count": 2,
   "metadata": {},
   "outputs": [],
   "source": [
    "train = pd.read_csv('./data/new_train.csv')\n",
    "test = pd.read_csv('./data/new_test.csv')\n",
    "labels = pd.read_csv('./data/train_labels.csv')"
   ]
  },
  {
   "cell_type": "code",
   "execution_count": 3,
   "metadata": {},
   "outputs": [],
   "source": [
    "acc = labels[['game_session', 'accuracy_group']]\n",
    "trainlab = train.merge(acc, on = 'game_session')"
   ]
  },
  {
   "cell_type": "code",
   "execution_count": 4,
   "metadata": {},
   "outputs": [],
   "source": [
    "trainlab.drop(columns=['Unnamed: 0', \n",
    "                       'installation_id',\n",
    "                       'game_time_s', \n",
    "                       'step_time',\n",
    "                      'total_game_sessions',\n",
    "                      'total_game_time',\n",
    "                      'game_correct',\n",
    "                      'game_incorrect',\n",
    "                      'test_correct',\n",
    "                      'test_incorrect',\n",
    "                      'new_game',\n",
    "                      'got_instructions',\n",
    "                      'instruction_time',\n",
    "                      'assessment_time',\n",
    "                      'game_session'], inplace = True)"
   ]
  },
  {
   "cell_type": "markdown",
   "metadata": {},
   "source": [
    "## FEATURE NOTES\n",
    "1. We might have data leakage with the current cumulative calculation (it shouldn't include the correct/incorrect answers for the current game session but I think it does)\n",
    "2. We might want to weight certain features more (or make combination features?) Ex. prior time spent on assessments might be more meaningful; the game/assessment scores from the last game or last three games; the ratio of time spent in the last world they were in before taking an assessment; the amount of time/number of times they got extra instructions)\n",
    "3. Features we don't have that might be meaningful:\n",
    "    - Whether or not this is a potentially noisy device (ex. more than 300 game sessions)\n",
    "    - Slope of 'improvement' (how much faster the player is in the games, how their ratio of correct-incorrect responses has changed since the last game time)"
   ]
  },
  {
   "cell_type": "markdown",
   "metadata": {},
   "source": [
    "### Balancing Classes\n",
    "* I tried modeling with balanced classes, model did much worse on accuracy. Reverted modeling back to unbalanced version for now."
   ]
  },
  {
   "cell_type": "code",
   "execution_count": 5,
   "metadata": {},
   "outputs": [
    {
     "name": "stdout",
     "output_type": "stream",
     "text": [
      "df0 shape: (4229, 45)\n",
      "df1 shape: (2411, 45)\n",
      "df2 shape: (2205, 45)\n",
      "df3 shape: (8845, 45)\n"
     ]
    }
   ],
   "source": [
    "# Separate classes\n",
    "df_0 = trainlab[trainlab['accuracy_group']==0]\n",
    "df_1 = trainlab[trainlab['accuracy_group']==1]\n",
    "df_2 = trainlab[trainlab['accuracy_group']==2]\n",
    "df_3 = trainlab[trainlab['accuracy_group']==3]\n",
    "\n",
    "print(\"df0 shape:\", df_0.shape)\n",
    "print(\"df1 shape:\", df_1.shape)\n",
    "print(\"df2 shape:\", df_2.shape)\n",
    "print(\"df3 shape:\", df_3.shape)"
   ]
  },
  {
   "cell_type": "code",
   "execution_count": 6,
   "metadata": {},
   "outputs": [
    {
     "data": {
      "text/plain": [
       "3    8845\n",
       "2    8845\n",
       "1    8845\n",
       "0    8845\n",
       "Name: accuracy_group, dtype: int64"
      ]
     },
     "execution_count": 6,
     "metadata": {},
     "output_type": "execute_result"
    }
   ],
   "source": [
    "# Upsample minority classes\n",
    "df0_upsampled = resample(df_0, \n",
    "                        replace=True,     \n",
    "                        n_samples=8845, # match class 3\n",
    "                        random_state=42) \n",
    "\n",
    "df1_upsampled = resample(df_1, \n",
    "                        replace=True,     \n",
    "                        n_samples=8845, # match class 3\n",
    "                        random_state=42) \n",
    "\n",
    "df2_upsampled = resample(df_2, \n",
    "                        replace=True,     \n",
    "                        n_samples=8845, # match class 3\n",
    "                        random_state=42) \n",
    "\n",
    "# Combine majority class with upsampled minority class\n",
    "trainlab_bal = pd.concat([df0_upsampled, df1_upsampled, df2_upsampled, df_3])\n",
    " \n",
    "# Display new class counts\n",
    "trainlab_bal['accuracy_group'].value_counts()"
   ]
  },
  {
   "cell_type": "markdown",
   "metadata": {},
   "source": [
    "### Train/Test/Split"
   ]
  },
  {
   "cell_type": "code",
   "execution_count": 7,
   "metadata": {},
   "outputs": [],
   "source": [
    "X = trainlab.drop(columns = ['accuracy_group'])\n",
    "y = trainlab['accuracy_group']\n",
    "\n",
    "## to use balanced classes\n",
    "# X = trainlab_bal.drop(columns = ['accuracy_group'])\n",
    "# y = trainlab_bal['accuracy_group']\n"
   ]
  },
  {
   "cell_type": "code",
   "execution_count": 8,
   "metadata": {},
   "outputs": [
    {
     "data": {
      "text/plain": [
       "3    0.500000\n",
       "0    0.239062\n",
       "1    0.136292\n",
       "2    0.124647\n",
       "Name: accuracy_group, dtype: float64"
      ]
     },
     "execution_count": 8,
     "metadata": {},
     "output_type": "execute_result"
    }
   ],
   "source": [
    "y.value_counts(normalize = True)"
   ]
  },
  {
   "cell_type": "code",
   "execution_count": 9,
   "metadata": {},
   "outputs": [],
   "source": [
    "X_train, X_test, y_train, y_test = train_test_split(X, y, stratify = y)"
   ]
  },
  {
   "cell_type": "code",
   "execution_count": 10,
   "metadata": {},
   "outputs": [
    {
     "data": {
      "text/plain": [
       "3    0.499962\n",
       "0    0.239089\n",
       "1    0.136278\n",
       "2    0.124670\n",
       "Name: accuracy_group, dtype: float64"
      ]
     },
     "execution_count": 10,
     "metadata": {},
     "output_type": "execute_result"
    }
   ],
   "source": [
    "y_train.value_counts(normalize = True)"
   ]
  },
  {
   "cell_type": "code",
   "execution_count": 11,
   "metadata": {},
   "outputs": [
    {
     "name": "stdout",
     "output_type": "stream",
     "text": [
      "y_train shape: (13267,)\n",
      "y_test shape: (4423,)\n"
     ]
    }
   ],
   "source": [
    "print(\"y_train shape:\", y_train.shape)\n",
    "print(\"y_test shape:\", y_test.shape)"
   ]
  },
  {
   "cell_type": "markdown",
   "metadata": {},
   "source": [
    "### Scaling"
   ]
  },
  {
   "cell_type": "code",
   "execution_count": 12,
   "metadata": {},
   "outputs": [],
   "source": [
    "ss = StandardScaler()\n",
    "X_train_ss = ss.fit_transform(X_train)\n",
    "X_test_ss = ss.transform(X_test)"
   ]
  },
  {
   "cell_type": "markdown",
   "metadata": {},
   "source": [
    "### Logistic Regression 1"
   ]
  },
  {
   "cell_type": "code",
   "execution_count": 13,
   "metadata": {},
   "outputs": [
    {
     "data": {
      "text/plain": [
       "LogisticRegression(C=1.0, class_weight=None, dual=False, fit_intercept=True,\n",
       "          intercept_scaling=1, max_iter=100, multi_class='ovr', n_jobs=1,\n",
       "          penalty='l2', random_state=None, solver='liblinear', tol=0.0001,\n",
       "          verbose=0, warm_start=False)"
      ]
     },
     "execution_count": 13,
     "metadata": {},
     "output_type": "execute_result"
    }
   ],
   "source": [
    "logreg = LogisticRegression()\n",
    "logreg.fit(X_train_ss, y_train)"
   ]
  },
  {
   "cell_type": "code",
   "execution_count": 14,
   "metadata": {},
   "outputs": [
    {
     "data": {
      "text/plain": [
       "array([0.52689873, 0.52351877, 0.5265777 ])"
      ]
     },
     "execution_count": 14,
     "metadata": {},
     "output_type": "execute_result"
    }
   ],
   "source": [
    "cv_scores = cross_val_score(logreg, X_train_ss, y_train)\n",
    "cv_scores"
   ]
  },
  {
   "cell_type": "code",
   "execution_count": 15,
   "metadata": {},
   "outputs": [
    {
     "data": {
      "text/plain": [
       "array([0.52235772, 0.51967436, 0.52681602])"
      ]
     },
     "execution_count": 15,
     "metadata": {},
     "output_type": "execute_result"
    }
   ],
   "source": [
    "cv_scores = cross_val_score(logreg, X_test_ss, y_test)\n",
    "cv_scores"
   ]
  },
  {
   "cell_type": "code",
   "execution_count": 16,
   "metadata": {},
   "outputs": [],
   "source": [
    "# Getting features\n",
    "coefs = logreg.coef_\n",
    "cols = X_train.columns\n",
    "coef_df = pd.DataFrame(coefs, columns = cols)"
   ]
  },
  {
   "cell_type": "code",
   "execution_count": 17,
   "metadata": {},
   "outputs": [
    {
     "data": {
      "text/html": [
       "<div>\n",
       "<style scoped>\n",
       "    .dataframe tbody tr th:only-of-type {\n",
       "        vertical-align: middle;\n",
       "    }\n",
       "\n",
       "    .dataframe tbody tr th {\n",
       "        vertical-align: top;\n",
       "    }\n",
       "\n",
       "    .dataframe thead th {\n",
       "        text-align: right;\n",
       "    }\n",
       "</style>\n",
       "<table border=\"1\" class=\"dataframe\">\n",
       "  <thead>\n",
       "    <tr style=\"text-align: right;\">\n",
       "      <th></th>\n",
       "      <th>test_correct_cuma</th>\n",
       "      <th>test_incorrect_cuma</th>\n",
       "      <th>proportion_correct_cuma</th>\n",
       "      <th>game_correct_cuma</th>\n",
       "      <th>game_incorrect_cuma</th>\n",
       "      <th>proportion_correct_game_cuma</th>\n",
       "      <th>app_time_cuma</th>\n",
       "      <th>game_sessions_cuma</th>\n",
       "      <th>got_instructions_cuma</th>\n",
       "      <th>instruction_time_cuma</th>\n",
       "      <th>...</th>\n",
       "      <th>TREETOPCITY_correctanswers_rate_perid</th>\n",
       "      <th>TREETOPCITY_correctplay_rate_perid</th>\n",
       "      <th>CRYSTALCAVES_totaltime_perid</th>\n",
       "      <th>CRYSTALCAVES_gamesessions_perid</th>\n",
       "      <th>CRYSTALCAVES_correctanswers_perid</th>\n",
       "      <th>CRYSTALCAVES_incorrectanswers_perid</th>\n",
       "      <th>CRYSTALCAVES_correctplay_perid</th>\n",
       "      <th>CRYSTALCAVES_incorrectplay_perid</th>\n",
       "      <th>CRYSTALCAVES_correctanswers_rate_perid</th>\n",
       "      <th>CRYSTALCAVES_correctplay_rate_perid</th>\n",
       "    </tr>\n",
       "  </thead>\n",
       "  <tbody>\n",
       "    <tr>\n",
       "      <th>0</th>\n",
       "      <td>0.0</td>\n",
       "      <td>0.0</td>\n",
       "      <td>0.0</td>\n",
       "      <td>-1.052897</td>\n",
       "      <td>0.571572</td>\n",
       "      <td>-0.174068</td>\n",
       "      <td>0.036012</td>\n",
       "      <td>0.489182</td>\n",
       "      <td>0.134092</td>\n",
       "      <td>0.0</td>\n",
       "      <td>...</td>\n",
       "      <td>0.0</td>\n",
       "      <td>-0.269534</td>\n",
       "      <td>-0.038238</td>\n",
       "      <td>0.047587</td>\n",
       "      <td>0.0</td>\n",
       "      <td>0.0</td>\n",
       "      <td>-0.113225</td>\n",
       "      <td>0.068996</td>\n",
       "      <td>0.0</td>\n",
       "      <td>0.037986</td>\n",
       "    </tr>\n",
       "    <tr>\n",
       "      <th>1</th>\n",
       "      <td>0.0</td>\n",
       "      <td>0.0</td>\n",
       "      <td>0.0</td>\n",
       "      <td>-0.003084</td>\n",
       "      <td>0.112192</td>\n",
       "      <td>-0.059369</td>\n",
       "      <td>0.056199</td>\n",
       "      <td>-0.190356</td>\n",
       "      <td>-0.049928</td>\n",
       "      <td>0.0</td>\n",
       "      <td>...</td>\n",
       "      <td>0.0</td>\n",
       "      <td>0.242495</td>\n",
       "      <td>-0.085023</td>\n",
       "      <td>-0.014778</td>\n",
       "      <td>0.0</td>\n",
       "      <td>0.0</td>\n",
       "      <td>0.272949</td>\n",
       "      <td>-0.088400</td>\n",
       "      <td>0.0</td>\n",
       "      <td>-0.028832</td>\n",
       "    </tr>\n",
       "    <tr>\n",
       "      <th>2</th>\n",
       "      <td>0.0</td>\n",
       "      <td>0.0</td>\n",
       "      <td>0.0</td>\n",
       "      <td>0.165546</td>\n",
       "      <td>0.127195</td>\n",
       "      <td>-0.013973</td>\n",
       "      <td>-0.035700</td>\n",
       "      <td>-0.622272</td>\n",
       "      <td>0.054091</td>\n",
       "      <td>0.0</td>\n",
       "      <td>...</td>\n",
       "      <td>0.0</td>\n",
       "      <td>0.122490</td>\n",
       "      <td>-0.070664</td>\n",
       "      <td>0.142684</td>\n",
       "      <td>0.0</td>\n",
       "      <td>0.0</td>\n",
       "      <td>0.149843</td>\n",
       "      <td>-0.166156</td>\n",
       "      <td>0.0</td>\n",
       "      <td>-0.053790</td>\n",
       "    </tr>\n",
       "    <tr>\n",
       "      <th>3</th>\n",
       "      <td>0.0</td>\n",
       "      <td>0.0</td>\n",
       "      <td>0.0</td>\n",
       "      <td>0.614349</td>\n",
       "      <td>-0.578596</td>\n",
       "      <td>0.145880</td>\n",
       "      <td>-0.024315</td>\n",
       "      <td>-0.082194</td>\n",
       "      <td>0.074166</td>\n",
       "      <td>0.0</td>\n",
       "      <td>...</td>\n",
       "      <td>0.0</td>\n",
       "      <td>-0.005693</td>\n",
       "      <td>0.088579</td>\n",
       "      <td>-0.150437</td>\n",
       "      <td>0.0</td>\n",
       "      <td>0.0</td>\n",
       "      <td>-0.027780</td>\n",
       "      <td>0.008683</td>\n",
       "      <td>0.0</td>\n",
       "      <td>0.017223</td>\n",
       "    </tr>\n",
       "  </tbody>\n",
       "</table>\n",
       "<p>4 rows × 44 columns</p>\n",
       "</div>"
      ],
      "text/plain": [
       "   test_correct_cuma  test_incorrect_cuma  proportion_correct_cuma  \\\n",
       "0                0.0                  0.0                      0.0   \n",
       "1                0.0                  0.0                      0.0   \n",
       "2                0.0                  0.0                      0.0   \n",
       "3                0.0                  0.0                      0.0   \n",
       "\n",
       "   game_correct_cuma  game_incorrect_cuma  proportion_correct_game_cuma  \\\n",
       "0          -1.052897             0.571572                     -0.174068   \n",
       "1          -0.003084             0.112192                     -0.059369   \n",
       "2           0.165546             0.127195                     -0.013973   \n",
       "3           0.614349            -0.578596                      0.145880   \n",
       "\n",
       "   app_time_cuma  game_sessions_cuma  got_instructions_cuma  \\\n",
       "0       0.036012            0.489182               0.134092   \n",
       "1       0.056199           -0.190356              -0.049928   \n",
       "2      -0.035700           -0.622272               0.054091   \n",
       "3      -0.024315           -0.082194               0.074166   \n",
       "\n",
       "   instruction_time_cuma                 ...                   \\\n",
       "0                    0.0                 ...                    \n",
       "1                    0.0                 ...                    \n",
       "2                    0.0                 ...                    \n",
       "3                    0.0                 ...                    \n",
       "\n",
       "   TREETOPCITY_correctanswers_rate_perid  TREETOPCITY_correctplay_rate_perid  \\\n",
       "0                                    0.0                           -0.269534   \n",
       "1                                    0.0                            0.242495   \n",
       "2                                    0.0                            0.122490   \n",
       "3                                    0.0                           -0.005693   \n",
       "\n",
       "   CRYSTALCAVES_totaltime_perid  CRYSTALCAVES_gamesessions_perid  \\\n",
       "0                     -0.038238                         0.047587   \n",
       "1                     -0.085023                        -0.014778   \n",
       "2                     -0.070664                         0.142684   \n",
       "3                      0.088579                        -0.150437   \n",
       "\n",
       "   CRYSTALCAVES_correctanswers_perid  CRYSTALCAVES_incorrectanswers_perid  \\\n",
       "0                                0.0                                  0.0   \n",
       "1                                0.0                                  0.0   \n",
       "2                                0.0                                  0.0   \n",
       "3                                0.0                                  0.0   \n",
       "\n",
       "   CRYSTALCAVES_correctplay_perid  CRYSTALCAVES_incorrectplay_perid  \\\n",
       "0                       -0.113225                          0.068996   \n",
       "1                        0.272949                         -0.088400   \n",
       "2                        0.149843                         -0.166156   \n",
       "3                       -0.027780                          0.008683   \n",
       "\n",
       "   CRYSTALCAVES_correctanswers_rate_perid  CRYSTALCAVES_correctplay_rate_perid  \n",
       "0                                     0.0                             0.037986  \n",
       "1                                     0.0                            -0.028832  \n",
       "2                                     0.0                            -0.053790  \n",
       "3                                     0.0                             0.017223  \n",
       "\n",
       "[4 rows x 44 columns]"
      ]
     },
     "execution_count": 17,
     "metadata": {},
     "output_type": "execute_result"
    }
   ],
   "source": [
    "coef_df"
   ]
  },
  {
   "cell_type": "code",
   "execution_count": 18,
   "metadata": {},
   "outputs": [
    {
     "data": {
      "text/plain": [
       "game_incorrect_cuma                  -0.578596\n",
       "CRYSTALCAVES_gamesessions_perid      -0.150437\n",
       "TREETOPCITY_incorrectplay_perid      -0.146396\n",
       "TREETOPCITY_gamesessions_perid       -0.105209\n",
       "game_sessions_cuma                   -0.082194\n",
       "MAGMAPEAK_gamesessions_perid         -0.066194\n",
       "CRYSTALCAVES_correctplay_perid       -0.027780\n",
       "app_time_cuma                        -0.024315\n",
       "TREETOPCITY_correctplay_rate_perid   -0.005693\n",
       "MAGMAPEAK_correctanswers_perid        0.000000\n",
       "Name: 3, dtype: float64"
      ]
     },
     "execution_count": 18,
     "metadata": {},
     "output_type": "execute_result"
    }
   ],
   "source": [
    "# features with highest negative influence on being in group 3\n",
    "coef_df.loc[3].sort_values().head(10)"
   ]
  },
  {
   "cell_type": "code",
   "execution_count": 19,
   "metadata": {},
   "outputs": [
    {
     "data": {
      "text/plain": [
       "prior_assessments_cuma                 0.014280\n",
       "CRYSTALCAVES_correctplay_rate_perid    0.017223\n",
       "MAGMAPEAK_totaltime_perid              0.031067\n",
       "assessment_time_cuma                   0.039662\n",
       "got_instructions_cuma                  0.074166\n",
       "CRYSTALCAVES_totaltime_perid           0.088579\n",
       "TREETOPCITY_correctplay_perid          0.098108\n",
       "proportion_correct_game_cuma           0.145880\n",
       "MAGMAPEAK_correctplay_rate_perid       0.278579\n",
       "game_correct_cuma                      0.614349\n",
       "Name: 3, dtype: float64"
      ]
     },
     "execution_count": 19,
     "metadata": {},
     "output_type": "execute_result"
    }
   ],
   "source": [
    "# features with highest positive influence on being in group 3\n",
    "coef_df.loc[3].sort_values().tail(10)"
   ]
  },
  {
   "cell_type": "code",
   "execution_count": 20,
   "metadata": {},
   "outputs": [
    {
     "data": {
      "text/plain": [
       "array([[ 619,    8,    0, 2545],\n",
       "       [ 126,   18,    0, 1664],\n",
       "       [  73,    7,    0, 1574],\n",
       "       [ 256,   14,    0, 6363]])"
      ]
     },
     "execution_count": 20,
     "metadata": {},
     "output_type": "execute_result"
    }
   ],
   "source": [
    "# confusion matrix\n",
    "y_pred = logreg.predict(X_train_ss)\n",
    "y_true = y_train\n",
    "\n",
    "confusion_matrix(y_true, y_pred)"
   ]
  },
  {
   "cell_type": "code",
   "execution_count": 21,
   "metadata": {},
   "outputs": [
    {
     "data": {
      "text/html": [
       "<div>\n",
       "<style scoped>\n",
       "    .dataframe tbody tr th:only-of-type {\n",
       "        vertical-align: middle;\n",
       "    }\n",
       "\n",
       "    .dataframe tbody tr th {\n",
       "        vertical-align: top;\n",
       "    }\n",
       "\n",
       "    .dataframe thead th {\n",
       "        text-align: right;\n",
       "    }\n",
       "</style>\n",
       "<table border=\"1\" class=\"dataframe\">\n",
       "  <thead>\n",
       "    <tr style=\"text-align: right;\">\n",
       "      <th>Predicted</th>\n",
       "      <th>0</th>\n",
       "      <th>1</th>\n",
       "      <th>3</th>\n",
       "      <th>All</th>\n",
       "    </tr>\n",
       "    <tr>\n",
       "      <th>True</th>\n",
       "      <th></th>\n",
       "      <th></th>\n",
       "      <th></th>\n",
       "      <th></th>\n",
       "    </tr>\n",
       "  </thead>\n",
       "  <tbody>\n",
       "    <tr>\n",
       "      <th>0</th>\n",
       "      <td>619</td>\n",
       "      <td>8</td>\n",
       "      <td>2545</td>\n",
       "      <td>3172</td>\n",
       "    </tr>\n",
       "    <tr>\n",
       "      <th>1</th>\n",
       "      <td>126</td>\n",
       "      <td>18</td>\n",
       "      <td>1664</td>\n",
       "      <td>1808</td>\n",
       "    </tr>\n",
       "    <tr>\n",
       "      <th>2</th>\n",
       "      <td>73</td>\n",
       "      <td>7</td>\n",
       "      <td>1574</td>\n",
       "      <td>1654</td>\n",
       "    </tr>\n",
       "    <tr>\n",
       "      <th>3</th>\n",
       "      <td>256</td>\n",
       "      <td>14</td>\n",
       "      <td>6363</td>\n",
       "      <td>6633</td>\n",
       "    </tr>\n",
       "    <tr>\n",
       "      <th>All</th>\n",
       "      <td>1074</td>\n",
       "      <td>47</td>\n",
       "      <td>12146</td>\n",
       "      <td>13267</td>\n",
       "    </tr>\n",
       "  </tbody>\n",
       "</table>\n",
       "</div>"
      ],
      "text/plain": [
       "Predicted     0   1      3    All\n",
       "True                             \n",
       "0           619   8   2545   3172\n",
       "1           126  18   1664   1808\n",
       "2            73   7   1574   1654\n",
       "3           256  14   6363   6633\n",
       "All        1074  47  12146  13267"
      ]
     },
     "execution_count": 21,
     "metadata": {},
     "output_type": "execute_result"
    }
   ],
   "source": [
    "# predicted values are columns, true vals are rows\n",
    "pd.crosstab(y_true, y_pred, rownames=['True'], colnames=['Predicted'], margins=True)"
   ]
  },
  {
   "cell_type": "markdown",
   "metadata": {},
   "source": [
    "Before scaling features, the confusion matrix showed more predictions for group 0:\n",
    "\n",
    "    array([[1077,   11,   12, 2072],\n",
    "       [ 335,    0,    9, 1464],\n",
    "       [ 229,    3,    3, 1419],\n",
    "       [ 836,   15,   26, 5756]])"
   ]
  },
  {
   "cell_type": "markdown",
   "metadata": {},
   "source": [
    "It looks like this model is VERY BAD at predicting whether a player will be in accuracy groups 1 or 2. It does the best at predicting whether a player will be in accuracy group 3 or not. This could be because of imbalanced classes; it could be because there's a much clearer distinction in play for players that get 3s (and 0s). "
   ]
  },
  {
   "cell_type": "markdown",
   "metadata": {},
   "source": [
    "### Random Forest"
   ]
  },
  {
   "cell_type": "code",
   "execution_count": 22,
   "metadata": {},
   "outputs": [
    {
     "data": {
      "text/plain": [
       "RandomForestClassifier(bootstrap=True, class_weight=None, criterion='gini',\n",
       "            max_depth=10, max_features='auto', max_leaf_nodes=None,\n",
       "            min_impurity_decrease=0.0, min_impurity_split=None,\n",
       "            min_samples_leaf=1, min_samples_split=2,\n",
       "            min_weight_fraction_leaf=0.0, n_estimators=1000, n_jobs=-2,\n",
       "            oob_score=False, random_state=None, verbose=0, warm_start=True)"
      ]
     },
     "execution_count": 22,
     "metadata": {},
     "output_type": "execute_result"
    }
   ],
   "source": [
    "rf = RandomForestClassifier(max_depth = 10,\n",
    "                            n_estimators = 1000, \n",
    "                            n_jobs = -2, \n",
    "                            oob_score = False, \n",
    "                            warm_start = True)\n",
    "rf.fit(X_train_ss, y_train)"
   ]
  },
  {
   "cell_type": "code",
   "execution_count": 23,
   "metadata": {},
   "outputs": [
    {
     "data": {
      "text/plain": [
       "array([0.53887884, 0.53211217, 0.53879213])"
      ]
     },
     "execution_count": 23,
     "metadata": {},
     "output_type": "execute_result"
    }
   ],
   "source": [
    "cv_scores = cross_val_score(rf, X_train_ss, y_train)\n",
    "cv_scores"
   ]
  },
  {
   "cell_type": "code",
   "execution_count": 24,
   "metadata": {},
   "outputs": [
    {
     "data": {
      "text/plain": [
       "array([0.53252033, 0.52238806, 0.53903598])"
      ]
     },
     "execution_count": 24,
     "metadata": {},
     "output_type": "execute_result"
    }
   ],
   "source": [
    "cv_scores = cross_val_score(rf, X_test_ss, y_test)\n",
    "cv_scores"
   ]
  },
  {
   "cell_type": "code",
   "execution_count": 25,
   "metadata": {},
   "outputs": [],
   "source": [
    "imps = rf.feature_importances_\n",
    "cols = X_train.columns"
   ]
  },
  {
   "cell_type": "code",
   "execution_count": 26,
   "metadata": {
    "scrolled": true
   },
   "outputs": [
    {
     "data": {
      "text/html": [
       "<div>\n",
       "<style scoped>\n",
       "    .dataframe tbody tr th:only-of-type {\n",
       "        vertical-align: middle;\n",
       "    }\n",
       "\n",
       "    .dataframe tbody tr th {\n",
       "        vertical-align: top;\n",
       "    }\n",
       "\n",
       "    .dataframe thead th {\n",
       "        text-align: right;\n",
       "    }\n",
       "</style>\n",
       "<table border=\"1\" class=\"dataframe\">\n",
       "  <thead>\n",
       "    <tr style=\"text-align: right;\">\n",
       "      <th></th>\n",
       "      <th>feature_importance</th>\n",
       "      <th>feature</th>\n",
       "    </tr>\n",
       "  </thead>\n",
       "  <tbody>\n",
       "    <tr>\n",
       "      <th>41</th>\n",
       "      <td>0.021427</td>\n",
       "      <td>CRYSTALCAVES_incorrectplay_perid</td>\n",
       "    </tr>\n",
       "    <tr>\n",
       "      <th>40</th>\n",
       "      <td>0.022822</td>\n",
       "      <td>CRYSTALCAVES_correctplay_perid</td>\n",
       "    </tr>\n",
       "    <tr>\n",
       "      <th>32</th>\n",
       "      <td>0.023546</td>\n",
       "      <td>TREETOPCITY_correctplay_perid</td>\n",
       "    </tr>\n",
       "    <tr>\n",
       "      <th>25</th>\n",
       "      <td>0.024097</td>\n",
       "      <td>MAGMAPEAK_incorrectplay_perid</td>\n",
       "    </tr>\n",
       "    <tr>\n",
       "      <th>33</th>\n",
       "      <td>0.024690</td>\n",
       "      <td>TREETOPCITY_incorrectplay_perid</td>\n",
       "    </tr>\n",
       "    <tr>\n",
       "      <th>29</th>\n",
       "      <td>0.027423</td>\n",
       "      <td>TREETOPCITY_gamesessions_perid</td>\n",
       "    </tr>\n",
       "    <tr>\n",
       "      <th>28</th>\n",
       "      <td>0.027562</td>\n",
       "      <td>TREETOPCITY_totaltime_perid</td>\n",
       "    </tr>\n",
       "    <tr>\n",
       "      <th>43</th>\n",
       "      <td>0.028928</td>\n",
       "      <td>CRYSTALCAVES_correctplay_rate_perid</td>\n",
       "    </tr>\n",
       "    <tr>\n",
       "      <th>37</th>\n",
       "      <td>0.029937</td>\n",
       "      <td>CRYSTALCAVES_gamesessions_perid</td>\n",
       "    </tr>\n",
       "    <tr>\n",
       "      <th>24</th>\n",
       "      <td>0.029995</td>\n",
       "      <td>MAGMAPEAK_correctplay_perid</td>\n",
       "    </tr>\n",
       "    <tr>\n",
       "      <th>20</th>\n",
       "      <td>0.033451</td>\n",
       "      <td>MAGMAPEAK_totaltime_perid</td>\n",
       "    </tr>\n",
       "    <tr>\n",
       "      <th>21</th>\n",
       "      <td>0.033452</td>\n",
       "      <td>MAGMAPEAK_gamesessions_perid</td>\n",
       "    </tr>\n",
       "    <tr>\n",
       "      <th>36</th>\n",
       "      <td>0.033629</td>\n",
       "      <td>CRYSTALCAVES_totaltime_perid</td>\n",
       "    </tr>\n",
       "    <tr>\n",
       "      <th>35</th>\n",
       "      <td>0.036587</td>\n",
       "      <td>TREETOPCITY_correctplay_rate_perid</td>\n",
       "    </tr>\n",
       "    <tr>\n",
       "      <th>27</th>\n",
       "      <td>0.047522</td>\n",
       "      <td>MAGMAPEAK_correctplay_rate_perid</td>\n",
       "    </tr>\n",
       "    <tr>\n",
       "      <th>10</th>\n",
       "      <td>0.049132</td>\n",
       "      <td>prior_assessments_cuma</td>\n",
       "    </tr>\n",
       "    <tr>\n",
       "      <th>4</th>\n",
       "      <td>0.058967</td>\n",
       "      <td>game_incorrect_cuma</td>\n",
       "    </tr>\n",
       "    <tr>\n",
       "      <th>3</th>\n",
       "      <td>0.059275</td>\n",
       "      <td>game_correct_cuma</td>\n",
       "    </tr>\n",
       "    <tr>\n",
       "      <th>8</th>\n",
       "      <td>0.063156</td>\n",
       "      <td>got_instructions_cuma</td>\n",
       "    </tr>\n",
       "    <tr>\n",
       "      <th>11</th>\n",
       "      <td>0.066646</td>\n",
       "      <td>assessment_time_cuma</td>\n",
       "    </tr>\n",
       "    <tr>\n",
       "      <th>6</th>\n",
       "      <td>0.066698</td>\n",
       "      <td>app_time_cuma</td>\n",
       "    </tr>\n",
       "    <tr>\n",
       "      <th>7</th>\n",
       "      <td>0.069333</td>\n",
       "      <td>game_sessions_cuma</td>\n",
       "    </tr>\n",
       "    <tr>\n",
       "      <th>5</th>\n",
       "      <td>0.121723</td>\n",
       "      <td>proportion_correct_game_cuma</td>\n",
       "    </tr>\n",
       "  </tbody>\n",
       "</table>\n",
       "</div>"
      ],
      "text/plain": [
       "    feature_importance                              feature\n",
       "41            0.021427     CRYSTALCAVES_incorrectplay_perid\n",
       "40            0.022822       CRYSTALCAVES_correctplay_perid\n",
       "32            0.023546        TREETOPCITY_correctplay_perid\n",
       "25            0.024097        MAGMAPEAK_incorrectplay_perid\n",
       "33            0.024690      TREETOPCITY_incorrectplay_perid\n",
       "29            0.027423       TREETOPCITY_gamesessions_perid\n",
       "28            0.027562          TREETOPCITY_totaltime_perid\n",
       "43            0.028928  CRYSTALCAVES_correctplay_rate_perid\n",
       "37            0.029937      CRYSTALCAVES_gamesessions_perid\n",
       "24            0.029995          MAGMAPEAK_correctplay_perid\n",
       "20            0.033451            MAGMAPEAK_totaltime_perid\n",
       "21            0.033452         MAGMAPEAK_gamesessions_perid\n",
       "36            0.033629         CRYSTALCAVES_totaltime_perid\n",
       "35            0.036587   TREETOPCITY_correctplay_rate_perid\n",
       "27            0.047522     MAGMAPEAK_correctplay_rate_perid\n",
       "10            0.049132               prior_assessments_cuma\n",
       "4             0.058967                  game_incorrect_cuma\n",
       "3             0.059275                    game_correct_cuma\n",
       "8             0.063156                got_instructions_cuma\n",
       "11            0.066646                 assessment_time_cuma\n",
       "6             0.066698                        app_time_cuma\n",
       "7             0.069333                   game_sessions_cuma\n",
       "5             0.121723         proportion_correct_game_cuma"
      ]
     },
     "execution_count": 26,
     "metadata": {},
     "output_type": "execute_result"
    }
   ],
   "source": [
    "feats = pd.DataFrame(list(zip(imps, cols)), columns = ['feature_importance', 'feature'])\n",
    "feats[feats['feature_importance'] >0].sort_values(by='feature_importance')"
   ]
  },
  {
   "cell_type": "code",
   "execution_count": 27,
   "metadata": {},
   "outputs": [
    {
     "data": {
      "text/plain": [
       "array([[1402,    2,    0, 1768],\n",
       "       [ 162,   90,    0, 1556],\n",
       "       [ 129,    1,   32, 1492],\n",
       "       [ 199,    3,    0, 6431]])"
      ]
     },
     "execution_count": 27,
     "metadata": {},
     "output_type": "execute_result"
    }
   ],
   "source": [
    "# confusion matrix\n",
    "y_pred = rf.predict(X_train_ss)\n",
    "y_true = y_train\n",
    "\n",
    "confusion_matrix(y_true, y_pred)"
   ]
  },
  {
   "cell_type": "code",
   "execution_count": 28,
   "metadata": {},
   "outputs": [
    {
     "data": {
      "text/html": [
       "<div>\n",
       "<style scoped>\n",
       "    .dataframe tbody tr th:only-of-type {\n",
       "        vertical-align: middle;\n",
       "    }\n",
       "\n",
       "    .dataframe tbody tr th {\n",
       "        vertical-align: top;\n",
       "    }\n",
       "\n",
       "    .dataframe thead th {\n",
       "        text-align: right;\n",
       "    }\n",
       "</style>\n",
       "<table border=\"1\" class=\"dataframe\">\n",
       "  <thead>\n",
       "    <tr style=\"text-align: right;\">\n",
       "      <th>Predicted</th>\n",
       "      <th>0</th>\n",
       "      <th>1</th>\n",
       "      <th>2</th>\n",
       "      <th>3</th>\n",
       "      <th>All</th>\n",
       "    </tr>\n",
       "    <tr>\n",
       "      <th>True</th>\n",
       "      <th></th>\n",
       "      <th></th>\n",
       "      <th></th>\n",
       "      <th></th>\n",
       "      <th></th>\n",
       "    </tr>\n",
       "  </thead>\n",
       "  <tbody>\n",
       "    <tr>\n",
       "      <th>0</th>\n",
       "      <td>1402</td>\n",
       "      <td>2</td>\n",
       "      <td>0</td>\n",
       "      <td>1768</td>\n",
       "      <td>3172</td>\n",
       "    </tr>\n",
       "    <tr>\n",
       "      <th>1</th>\n",
       "      <td>162</td>\n",
       "      <td>90</td>\n",
       "      <td>0</td>\n",
       "      <td>1556</td>\n",
       "      <td>1808</td>\n",
       "    </tr>\n",
       "    <tr>\n",
       "      <th>2</th>\n",
       "      <td>129</td>\n",
       "      <td>1</td>\n",
       "      <td>32</td>\n",
       "      <td>1492</td>\n",
       "      <td>1654</td>\n",
       "    </tr>\n",
       "    <tr>\n",
       "      <th>3</th>\n",
       "      <td>199</td>\n",
       "      <td>3</td>\n",
       "      <td>0</td>\n",
       "      <td>6431</td>\n",
       "      <td>6633</td>\n",
       "    </tr>\n",
       "    <tr>\n",
       "      <th>All</th>\n",
       "      <td>1892</td>\n",
       "      <td>96</td>\n",
       "      <td>32</td>\n",
       "      <td>11247</td>\n",
       "      <td>13267</td>\n",
       "    </tr>\n",
       "  </tbody>\n",
       "</table>\n",
       "</div>"
      ],
      "text/plain": [
       "Predicted     0   1   2      3    All\n",
       "True                                 \n",
       "0          1402   2   0   1768   3172\n",
       "1           162  90   0   1556   1808\n",
       "2           129   1  32   1492   1654\n",
       "3           199   3   0   6431   6633\n",
       "All        1892  96  32  11247  13267"
      ]
     },
     "execution_count": 28,
     "metadata": {},
     "output_type": "execute_result"
    }
   ],
   "source": [
    "# predicted values are columns, true vals are rows\n",
    "pd.crosstab(y_true, y_pred, rownames=['True'], colnames=['Predicted'], margins=True)"
   ]
  },
  {
   "cell_type": "markdown",
   "metadata": {},
   "source": [
    "## MODEL NOTES\n",
    "1. Are there other metrics we should be using?\n",
    "2. How can we make our model better at predicting accuracy groups 1 and 2? \n",
    "3. As of 1/7, it looks like groups in the money are scoring 56% - 57% accuracy. The top half of submissions are above 53%"
   ]
  }
 ],
 "metadata": {
  "kernelspec": {
   "display_name": "Python 3",
   "language": "python",
   "name": "python3"
  },
  "language_info": {
   "codemirror_mode": {
    "name": "ipython",
    "version": 3
   },
   "file_extension": ".py",
   "mimetype": "text/x-python",
   "name": "python",
   "nbconvert_exporter": "python",
   "pygments_lexer": "ipython3",
   "version": "3.6.5"
  }
 },
 "nbformat": 4,
 "nbformat_minor": 2
}
